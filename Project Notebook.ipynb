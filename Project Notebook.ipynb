{
 "cells": [
  {
   "cell_type": "markdown",
   "metadata": {},
   "source": [
    "# Capstone Project Notebook"
   ]
  },
  {
   "cell_type": "markdown",
   "metadata": {},
   "source": [
    "This notebook walks through the implementation and analysis of the Insider Trading Machine Learning Project. It walks through using the created dataset. The code for (1) pulling Form 4 data from EDGAR and (2) creating the dataset is in form4_pull.py and create_dataset.py, respectively.\n",
    "\n",
    "To start we load the dataset into a Pandas Dataframe."
   ]
  },
  {
   "cell_type": "code",
   "execution_count": 2,
   "metadata": {
    "collapsed": false
   },
   "outputs": [],
   "source": [
    "%matplotlib inline\n",
    "import numpy as np\n",
    "import pandas as pd\n",
    "import matplotlib\n",
    "import matplotlib.pyplot as plt\n",
    "\n",
    "dataset = pd.read_csv(\"dataset_6_12_spy_alt_norm.csv\")"
   ]
  },
  {
   "cell_type": "markdown",
   "metadata": {},
   "source": [
    "## Data Pre-Processing"
   ]
  },
  {
   "cell_type": "markdown",
   "metadata": {},
   "source": [
    "Next, we conduct some simple data preprocessing. While we gathered return data for 1 (RET1), 6 (RET6), and 12 (RET12) months, we are only using RET12 data in this demo since this data provided the best results. Thus, we drop missing datapoints for RET12 ('None': points for which data was not available, 'Fail': points for which data failed to download, and any NaN values). We also drop the COMPANY ticker and MONTH columns, and cleanup the market cap category data. We also renamed RET12 as RET.\n",
    "\n",
    "Finally, we define a function to separate the non-binary discrete variables into multiple binary variables using the get_dummies function. We use this function later on to split market sector data into 10 binary variables, and market cap data into 3 binary variables.\n"
   ]
  },
  {
   "cell_type": "code",
   "execution_count": 3,
   "metadata": {
    "collapsed": false
   },
   "outputs": [],
   "source": [
    "#Cleanup dataset\n",
    "\n",
    "dataset = dataset[dataset.RET12 != 'None']\n",
    "dataset = dataset[dataset.RET12 != 'Fail']\n",
    "dataset.dropna(axis=0, inplace=True)\n",
    "dataset = dataset.drop(['COMPANY'], axis=1)\n",
    "dataset = dataset.drop(['MONTH'], axis=1)\n",
    "dataset = dataset.drop(['RET1'], axis=1)\n",
    "dataset = dataset.drop(['RET6'], axis=1)\n",
    "dataset.rename(index=str, columns={'RET12': 'RET'}, inplace=True)\n",
    "dataset['MKTCAP'].replace('.*Small.', 'small', inplace=True, regex=True)\n",
    "dataset['MKTCAP'].replace('.*Mid.', 'mid', inplace=True, regex=True)\n",
    "dataset['MKTCAP'].replace('.*Large.', 'large', inplace=True, regex=True)\n",
    "\n",
    "#Create binary variables for non-binary discrete variables\n",
    "def preprocess_features(X):\n",
    "    output = pd.DataFrame(index = X.index)\n",
    "    for col, col_data in X.iteritems():\n",
    "        if col_data.dtype == object:\n",
    "            col_data = pd.get_dummies(col_data, prefix = col)\n",
    "        output = output.join(col_data)\n",
    "    return output\n",
    "\n"
   ]
  },
  {
   "cell_type": "markdown",
   "metadata": {},
   "source": [
    "Below is a sample of the dataset for visualization purposes."
   ]
  },
  {
   "cell_type": "code",
   "execution_count": 4,
   "metadata": {
    "collapsed": false,
    "scrolled": false
   },
   "outputs": [
    {
     "data": {
      "text/html": [
       "<div>\n",
       "<table border=\"1\" class=\"dataframe\">\n",
       "  <thead>\n",
       "    <tr style=\"text-align: right;\">\n",
       "      <th></th>\n",
       "      <th>NBC1</th>\n",
       "      <th>NBC2</th>\n",
       "      <th>NBC3</th>\n",
       "      <th>NBC4</th>\n",
       "      <th>NBC5</th>\n",
       "      <th>NBC6</th>\n",
       "      <th>NBC7</th>\n",
       "      <th>NBC8</th>\n",
       "      <th>NBC9</th>\n",
       "      <th>NBC10</th>\n",
       "      <th>...</th>\n",
       "      <th>NBV6</th>\n",
       "      <th>NBV7</th>\n",
       "      <th>NBV8</th>\n",
       "      <th>NBV9</th>\n",
       "      <th>NBV10</th>\n",
       "      <th>NBV11</th>\n",
       "      <th>NBV12</th>\n",
       "      <th>SECTOR</th>\n",
       "      <th>MKTCAP</th>\n",
       "      <th>RET</th>\n",
       "    </tr>\n",
       "  </thead>\n",
       "  <tbody>\n",
       "    <tr>\n",
       "      <th>0</th>\n",
       "      <td>0.0</td>\n",
       "      <td>0.0</td>\n",
       "      <td>0.0</td>\n",
       "      <td>0.0</td>\n",
       "      <td>0.0</td>\n",
       "      <td>0.000000</td>\n",
       "      <td>0.000000</td>\n",
       "      <td>0.000000</td>\n",
       "      <td>0.000000</td>\n",
       "      <td>0.000000</td>\n",
       "      <td>...</td>\n",
       "      <td>0.000000</td>\n",
       "      <td>0.000000</td>\n",
       "      <td>0.000000</td>\n",
       "      <td>0.000000</td>\n",
       "      <td>0.000000</td>\n",
       "      <td>0.000000</td>\n",
       "      <td>0.000000</td>\n",
       "      <td>Health Care</td>\n",
       "      <td>mid</td>\n",
       "      <td>-0.172941746714</td>\n",
       "    </tr>\n",
       "    <tr>\n",
       "      <th>1</th>\n",
       "      <td>0.0</td>\n",
       "      <td>0.0</td>\n",
       "      <td>0.0</td>\n",
       "      <td>0.0</td>\n",
       "      <td>0.0</td>\n",
       "      <td>0.000000</td>\n",
       "      <td>0.000000</td>\n",
       "      <td>0.000000</td>\n",
       "      <td>0.000000</td>\n",
       "      <td>0.000000</td>\n",
       "      <td>...</td>\n",
       "      <td>0.000000</td>\n",
       "      <td>0.000000</td>\n",
       "      <td>0.000000</td>\n",
       "      <td>0.000000</td>\n",
       "      <td>0.000000</td>\n",
       "      <td>0.000000</td>\n",
       "      <td>0.000000</td>\n",
       "      <td>Health Care</td>\n",
       "      <td>mid</td>\n",
       "      <td>-0.0150660419401</td>\n",
       "    </tr>\n",
       "    <tr>\n",
       "      <th>2</th>\n",
       "      <td>0.0</td>\n",
       "      <td>0.0</td>\n",
       "      <td>0.0</td>\n",
       "      <td>0.0</td>\n",
       "      <td>0.0</td>\n",
       "      <td>0.000000</td>\n",
       "      <td>0.000000</td>\n",
       "      <td>0.000000</td>\n",
       "      <td>0.000000</td>\n",
       "      <td>0.000000</td>\n",
       "      <td>...</td>\n",
       "      <td>0.000000</td>\n",
       "      <td>0.000000</td>\n",
       "      <td>0.000000</td>\n",
       "      <td>0.000000</td>\n",
       "      <td>0.000000</td>\n",
       "      <td>0.000000</td>\n",
       "      <td>0.000000</td>\n",
       "      <td>Health Care</td>\n",
       "      <td>mid</td>\n",
       "      <td>-7.44391884623e-05</td>\n",
       "    </tr>\n",
       "    <tr>\n",
       "      <th>3</th>\n",
       "      <td>0.0</td>\n",
       "      <td>0.0</td>\n",
       "      <td>0.0</td>\n",
       "      <td>0.0</td>\n",
       "      <td>0.0</td>\n",
       "      <td>0.000000</td>\n",
       "      <td>0.000000</td>\n",
       "      <td>0.000000</td>\n",
       "      <td>0.000000</td>\n",
       "      <td>0.000000</td>\n",
       "      <td>...</td>\n",
       "      <td>0.000000</td>\n",
       "      <td>0.000000</td>\n",
       "      <td>0.000000</td>\n",
       "      <td>0.000000</td>\n",
       "      <td>0.000000</td>\n",
       "      <td>0.000000</td>\n",
       "      <td>0.089069</td>\n",
       "      <td>Health Care</td>\n",
       "      <td>mid</td>\n",
       "      <td>-0.0846813940397</td>\n",
       "    </tr>\n",
       "    <tr>\n",
       "      <th>4</th>\n",
       "      <td>0.0</td>\n",
       "      <td>0.0</td>\n",
       "      <td>0.0</td>\n",
       "      <td>0.0</td>\n",
       "      <td>0.0</td>\n",
       "      <td>0.000000</td>\n",
       "      <td>0.000000</td>\n",
       "      <td>0.000000</td>\n",
       "      <td>0.000000</td>\n",
       "      <td>0.000000</td>\n",
       "      <td>...</td>\n",
       "      <td>0.000000</td>\n",
       "      <td>0.000000</td>\n",
       "      <td>0.000000</td>\n",
       "      <td>0.000000</td>\n",
       "      <td>0.000000</td>\n",
       "      <td>0.089069</td>\n",
       "      <td>0.005034</td>\n",
       "      <td>Health Care</td>\n",
       "      <td>mid</td>\n",
       "      <td>-0.200503849076</td>\n",
       "    </tr>\n",
       "    <tr>\n",
       "      <th>5</th>\n",
       "      <td>0.0</td>\n",
       "      <td>0.0</td>\n",
       "      <td>0.0</td>\n",
       "      <td>0.0</td>\n",
       "      <td>0.0</td>\n",
       "      <td>0.000000</td>\n",
       "      <td>0.000000</td>\n",
       "      <td>0.000000</td>\n",
       "      <td>0.000000</td>\n",
       "      <td>0.160714</td>\n",
       "      <td>...</td>\n",
       "      <td>0.000000</td>\n",
       "      <td>0.000000</td>\n",
       "      <td>0.000000</td>\n",
       "      <td>0.000000</td>\n",
       "      <td>0.089069</td>\n",
       "      <td>0.005034</td>\n",
       "      <td>0.989108</td>\n",
       "      <td>Health Care</td>\n",
       "      <td>mid</td>\n",
       "      <td>-0.165907802061</td>\n",
       "    </tr>\n",
       "    <tr>\n",
       "      <th>6</th>\n",
       "      <td>0.0</td>\n",
       "      <td>0.0</td>\n",
       "      <td>0.0</td>\n",
       "      <td>0.0</td>\n",
       "      <td>0.0</td>\n",
       "      <td>0.000000</td>\n",
       "      <td>0.000000</td>\n",
       "      <td>0.000000</td>\n",
       "      <td>0.160714</td>\n",
       "      <td>0.202381</td>\n",
       "      <td>...</td>\n",
       "      <td>0.000000</td>\n",
       "      <td>0.000000</td>\n",
       "      <td>0.000000</td>\n",
       "      <td>0.089069</td>\n",
       "      <td>0.005034</td>\n",
       "      <td>0.989108</td>\n",
       "      <td>0.053128</td>\n",
       "      <td>Health Care</td>\n",
       "      <td>mid</td>\n",
       "      <td>-0.269385255117</td>\n",
       "    </tr>\n",
       "    <tr>\n",
       "      <th>7</th>\n",
       "      <td>0.0</td>\n",
       "      <td>0.0</td>\n",
       "      <td>0.0</td>\n",
       "      <td>0.0</td>\n",
       "      <td>0.0</td>\n",
       "      <td>0.000000</td>\n",
       "      <td>0.000000</td>\n",
       "      <td>0.160714</td>\n",
       "      <td>0.202381</td>\n",
       "      <td>-0.071429</td>\n",
       "      <td>...</td>\n",
       "      <td>0.000000</td>\n",
       "      <td>0.000000</td>\n",
       "      <td>0.089069</td>\n",
       "      <td>0.005034</td>\n",
       "      <td>0.989108</td>\n",
       "      <td>0.053128</td>\n",
       "      <td>0.057414</td>\n",
       "      <td>Health Care</td>\n",
       "      <td>mid</td>\n",
       "      <td>-0.136214279481</td>\n",
       "    </tr>\n",
       "    <tr>\n",
       "      <th>8</th>\n",
       "      <td>0.0</td>\n",
       "      <td>0.0</td>\n",
       "      <td>0.0</td>\n",
       "      <td>0.0</td>\n",
       "      <td>0.0</td>\n",
       "      <td>0.000000</td>\n",
       "      <td>0.160714</td>\n",
       "      <td>0.202381</td>\n",
       "      <td>-0.071429</td>\n",
       "      <td>-0.017857</td>\n",
       "      <td>...</td>\n",
       "      <td>0.000000</td>\n",
       "      <td>0.089069</td>\n",
       "      <td>0.005034</td>\n",
       "      <td>0.989108</td>\n",
       "      <td>0.053128</td>\n",
       "      <td>0.057414</td>\n",
       "      <td>0.003005</td>\n",
       "      <td>Health Care</td>\n",
       "      <td>mid</td>\n",
       "      <td>-0.125907415704</td>\n",
       "    </tr>\n",
       "    <tr>\n",
       "      <th>9</th>\n",
       "      <td>0.0</td>\n",
       "      <td>0.0</td>\n",
       "      <td>0.0</td>\n",
       "      <td>0.0</td>\n",
       "      <td>0.0</td>\n",
       "      <td>0.160714</td>\n",
       "      <td>0.202381</td>\n",
       "      <td>-0.071429</td>\n",
       "      <td>-0.017857</td>\n",
       "      <td>0.065476</td>\n",
       "      <td>...</td>\n",
       "      <td>0.089069</td>\n",
       "      <td>0.005034</td>\n",
       "      <td>0.989108</td>\n",
       "      <td>0.053128</td>\n",
       "      <td>0.057414</td>\n",
       "      <td>0.003005</td>\n",
       "      <td>0.003005</td>\n",
       "      <td>Health Care</td>\n",
       "      <td>mid</td>\n",
       "      <td>-0.0150232631055</td>\n",
       "    </tr>\n",
       "  </tbody>\n",
       "</table>\n",
       "<p>10 rows × 27 columns</p>\n",
       "</div>"
      ],
      "text/plain": [
       "   NBC1  NBC2  NBC3  NBC4  NBC5      NBC6      NBC7      NBC8      NBC9  \\\n",
       "0   0.0   0.0   0.0   0.0   0.0  0.000000  0.000000  0.000000  0.000000   \n",
       "1   0.0   0.0   0.0   0.0   0.0  0.000000  0.000000  0.000000  0.000000   \n",
       "2   0.0   0.0   0.0   0.0   0.0  0.000000  0.000000  0.000000  0.000000   \n",
       "3   0.0   0.0   0.0   0.0   0.0  0.000000  0.000000  0.000000  0.000000   \n",
       "4   0.0   0.0   0.0   0.0   0.0  0.000000  0.000000  0.000000  0.000000   \n",
       "5   0.0   0.0   0.0   0.0   0.0  0.000000  0.000000  0.000000  0.000000   \n",
       "6   0.0   0.0   0.0   0.0   0.0  0.000000  0.000000  0.000000  0.160714   \n",
       "7   0.0   0.0   0.0   0.0   0.0  0.000000  0.000000  0.160714  0.202381   \n",
       "8   0.0   0.0   0.0   0.0   0.0  0.000000  0.160714  0.202381 -0.071429   \n",
       "9   0.0   0.0   0.0   0.0   0.0  0.160714  0.202381 -0.071429 -0.017857   \n",
       "\n",
       "      NBC10         ...              NBV6      NBV7      NBV8      NBV9  \\\n",
       "0  0.000000         ...          0.000000  0.000000  0.000000  0.000000   \n",
       "1  0.000000         ...          0.000000  0.000000  0.000000  0.000000   \n",
       "2  0.000000         ...          0.000000  0.000000  0.000000  0.000000   \n",
       "3  0.000000         ...          0.000000  0.000000  0.000000  0.000000   \n",
       "4  0.000000         ...          0.000000  0.000000  0.000000  0.000000   \n",
       "5  0.160714         ...          0.000000  0.000000  0.000000  0.000000   \n",
       "6  0.202381         ...          0.000000  0.000000  0.000000  0.089069   \n",
       "7 -0.071429         ...          0.000000  0.000000  0.089069  0.005034   \n",
       "8 -0.017857         ...          0.000000  0.089069  0.005034  0.989108   \n",
       "9  0.065476         ...          0.089069  0.005034  0.989108  0.053128   \n",
       "\n",
       "      NBV10     NBV11     NBV12       SECTOR  MKTCAP                 RET  \n",
       "0  0.000000  0.000000  0.000000  Health Care     mid     -0.172941746714  \n",
       "1  0.000000  0.000000  0.000000  Health Care     mid    -0.0150660419401  \n",
       "2  0.000000  0.000000  0.000000  Health Care     mid  -7.44391884623e-05  \n",
       "3  0.000000  0.000000  0.089069  Health Care     mid    -0.0846813940397  \n",
       "4  0.000000  0.089069  0.005034  Health Care     mid     -0.200503849076  \n",
       "5  0.089069  0.005034  0.989108  Health Care     mid     -0.165907802061  \n",
       "6  0.005034  0.989108  0.053128  Health Care     mid     -0.269385255117  \n",
       "7  0.989108  0.053128  0.057414  Health Care     mid     -0.136214279481  \n",
       "8  0.053128  0.057414  0.003005  Health Care     mid     -0.125907415704  \n",
       "9  0.057414  0.003005  0.003005  Health Care     mid    -0.0150232631055  \n",
       "\n",
       "[10 rows x 27 columns]"
      ]
     },
     "execution_count": 4,
     "metadata": {},
     "output_type": "execute_result"
    }
   ],
   "source": [
    "dataset.head(10)"
   ]
  },
  {
   "cell_type": "markdown",
   "metadata": {},
   "source": [
    "# Statistics\n",
    "\n",
    "\n"
   ]
  },
  {
   "cell_type": "markdown",
   "metadata": {},
   "source": [
    "The code below generates statistics on return, normalized net buy count, and normalized net buy volume across the dataset."
   ]
  },
  {
   "cell_type": "code",
   "execution_count": 5,
   "metadata": {
    "collapsed": false,
    "scrolled": false
   },
   "outputs": [
    {
     "name": "stdout",
     "output_type": "stream",
     "text": [
      "Min return: -0.935858888252\n",
      "Max return: 256.921787964\n",
      "Mean return: 0.037375337105\n",
      "Median return: 0.00476292075858\n",
      "Std Dev of return: 0.887738362548\n",
      "First quartile: -0.129435886468\n",
      "Third quartile: 0.153846798354\n",
      "First third: -0.0820028933886\n",
      "Second third: 0.0923269618164\n",
      "Min NBC: -1.0\n",
      "Max NBC: 1.0\n",
      "Mean NBC: 0.0161937410671\n",
      "Median NBC: 0.0\n",
      "Std NBC: 0.202602555863\n",
      "FQ NBC: -0.0113122171946\n",
      "TQ NBC: 0.0185185185185\n",
      "Min NBV: -1.0\n",
      "Max NBV: 1.0\n",
      "Mean NBV: 0.00188582097983\n",
      "Median NBV: 0.0\n",
      "Std NBV: 0.119143472668\n",
      "FQ NBV: -0.00116961416493\n",
      "TQ NBV: 0.0\n"
     ]
    }
   ],
   "source": [
    "ret_data = dataset['RET'].apply(pd.to_numeric, errors='coerce')\n",
    "min_return = np.min(ret_data)\n",
    "max_return = np.max(ret_data)\n",
    "mean_return = np.mean(ret_data)\n",
    "median_return = np.median(ret_data)\n",
    "std_return = np.std(ret_data)\n",
    "fq_return = np.percentile(ret_data,25)\n",
    "tq_return = np.percentile(ret_data,75)\n",
    "ft_return = np.percentile(ret_data,33)\n",
    "st_return = np.percentile(ret_data,66)\n",
    "print \"Min return: \" + str(min_return)\n",
    "print \"Max return: \" + str(max_return)\n",
    "print \"Mean return: \" + str(mean_return)\n",
    "print \"Median return: \" + str(median_return)\n",
    "print \"Std Dev of return: \" + str(std_return)\n",
    "print \"First quartile: \" + str(fq_return)\n",
    "print \"Third quartile: \" + str(tq_return)\n",
    "print \"First third: \" + str(ft_return)\n",
    "print \"Second third: \" + str(st_return)\n",
    "\n",
    "all_nbc = np.concatenate([dataset['NBC' + str(i)].apply(pd.to_numeric, errors='coerce') for i in range(1,13)])\n",
    "min_nbc = min(all_nbc)\n",
    "max_nbc = max(all_nbc)\n",
    "mean_nbc = np.mean(all_nbc)\n",
    "median_nbc = np.median(all_nbc)\n",
    "std_nbc = np.std(all_nbc)\n",
    "fq_nbc = np.percentile(all_nbc, 25)\n",
    "tq_nbc = np.percentile(all_nbc, 75)\n",
    "print \"Min NBC: \" + str(min_nbc)\n",
    "print \"Max NBC: \" + str(max_nbc)\n",
    "print \"Mean NBC: \" + str(mean_nbc)\n",
    "print \"Median NBC: \" + str(median_nbc)\n",
    "print \"Std NBC: \" + str(std_nbc)\n",
    "print \"FQ NBC: \" + str(fq_nbc)\n",
    "print \"TQ NBC: \" + str(tq_nbc)\n",
    "\n",
    "all_nbv = np.concatenate([dataset['NBV' + str(i)].apply(pd.to_numeric, errors='coerce') for i in range(1,13)])\n",
    "min_nbv = min(all_nbv)\n",
    "max_nbv = max(all_nbv)\n",
    "mean_nbv = np.mean(all_nbv)\n",
    "median_nbv = np.median(all_nbv)\n",
    "std_nbv = np.std(all_nbv)\n",
    "fq_nbv = np.percentile(all_nbv, 25)\n",
    "tq_nbv = np.percentile(all_nbv, 75)\n",
    "print \"Min NBV: \" + str(min_nbv)\n",
    "print \"Max NBV: \" + str(max_nbv)\n",
    "print \"Mean NBV: \" + str(mean_nbv)\n",
    "print \"Median NBV: \" + str(median_nbv)\n",
    "print \"Std NBV: \" + str(std_nbv)\n",
    "print \"FQ NBV: \" + str(fq_nbv)\n",
    "print \"TQ NBV: \" + str(tq_nbv)\n"
   ]
  },
  {
   "cell_type": "markdown",
   "metadata": {},
   "source": [
    "A histogram of return data shows that the returns are roughly normally distributed."
   ]
  },
  {
   "cell_type": "code",
   "execution_count": 6,
   "metadata": {
    "collapsed": false
   },
   "outputs": [
    {
     "data": {
      "image/png": "[encoded data removed]",
      "text/plain": [
       "<matplotlib.figure.Figure at 0x10bdf61d0>"
      ]
     },
     "metadata": {},
     "output_type": "display_data"
    },
    {
     "data": {
      "image/png": "[encoded data removed]",
      "text/plain": [
       "<matplotlib.figure.Figure at 0x1134a2610>"
      ]
     },
     "metadata": {},
     "output_type": "display_data"
    },
    {
     "data": {
      "image/png": "[encoded data removed]",
      "text/plain": [
       "<matplotlib.figure.Figure at 0x113497050>"
      ]
     },
     "metadata": {},
     "output_type": "display_data"
    }
   ],
   "source": [
    "plt.hist(ret_data, bins=100, range=(-.8,.8))\n",
    "plt.ylabel('Frequency')\n",
    "plt.xlabel('Return')\n",
    "plt.show()\n",
    "\n",
    "plt.hist(all_nbc, bins=100, range=(-1,1))\n",
    "plt.ylabel('Frequency')\n",
    "plt.xlabel('NBC')\n",
    "plt.show()\n",
    "\n",
    "plt.hist(all_nbv, bins=100, range=(-1,1))\n",
    "plt.ylabel('Frequency')\n",
    "plt.xlabel('NBV')\n",
    "plt.show()"
   ]
  },
  {
   "cell_type": "markdown",
   "metadata": {
    "collapsed": true
   },
   "source": [
    "# Model Training"
   ]
  },
  {
   "cell_type": "markdown",
   "metadata": {},
   "source": [
    "## More Data Pre-Processing"
   ]
  },
  {
   "cell_type": "markdown",
   "metadata": {},
   "source": [
    "Based on the statistics, we decide to divide the target set into three categories:\n",
    "'above' = returns on the 3rd third of the data (higher than 2/3 of returns)\n",
    "'middle' = returns on the 2nd third of the data (between 1/3 and 2/3 of returns).\n",
    "'below' = returns on the 1st third of the data (below 1/3 of returns). This is done because of the assumption that creating a meaningful regression is a too ambitious goal for this project.\n",
    "\n",
    "We then randomly shuffle and split the dataset into training and testing sets.\n"
   ]
  },
  {
   "cell_type": "code",
   "execution_count": 7,
   "metadata": {
    "collapsed": false
   },
   "outputs": [
    {
     "name": "stderr",
     "output_type": "stream",
     "text": [
      "/Users/gamephase/anaconda/lib/python2.7/site-packages/sklearn/cross_validation.py:44: DeprecationWarning: This module was deprecated in version 0.18 in favor of the model_selection module into which all the refactored classes and functions are moved. Also note that the interface of the new CV iterators are different from that of this module. This module will be removed in 0.20.\n",
      "  \"This module will be removed in 0.20.\", DeprecationWarning)\n"
     ]
    },
    {
     "name": "stdout",
     "output_type": "stream",
     "text": [
      "Feature columns:\n",
      "['NBC1', 'NBC2', 'NBC3', 'NBC4', 'NBC5', 'NBC6', 'NBC7', 'NBC8', 'NBC9', 'NBC10', 'NBC11', 'NBC12', 'NBV1', 'NBV2', 'NBV3', 'NBV4', 'NBV5', 'NBV6', 'NBV7', 'NBV8', 'NBV9', 'NBV10', 'NBV11', 'NBV12', 'SECTOR', 'MKTCAP']\n",
      "\n",
      "Target column: RETURN_CAT\n"
     ]
    }
   ],
   "source": [
    "from sklearn.cross_validation import train_test_split\n",
    "\n",
    "#Divide target set into 3 classes, and create new RETURN_CAT column\n",
    "dataset.loc[(dataset.RET.astype(np.float64) > ft_return) & (dataset.RET.astype(np.float64) < st_return), 'RETURN_CAT'] = np.str('STABLE')\n",
    "dataset.loc[(dataset.RET.astype(np.float64) >= st_return), 'RETURN_CAT'] = np.str('UP')\n",
    "dataset.loc[(dataset.RET.astype(np.float64) <= ft_return), 'RETURN_CAT'] = np.str('DOWN')\n",
    "\n",
    "#Separate dataset into feature and target sets\n",
    "feature_cols = list(dataset.columns[:-2])\n",
    "target_col = dataset.columns[-1]\n",
    "\n",
    "#Show the list of columns\n",
    "print \"Feature columns:\\n{}\".format(feature_cols)\n",
    "print \"\\nTarget column: {}\".format(target_col)\n",
    "\n",
    "#Separate data into feature data and target data\n",
    "X_all = dataset[feature_cols]\n",
    "y_all = dataset[target_col]\n",
    "\n",
    "#Pre-process feature dataset to create binary variables\n",
    "X_all = preprocess_features(X_all)"
   ]
  },
  {
   "cell_type": "markdown",
   "metadata": {},
   "source": [
    "# Model Training"
   ]
  },
  {
   "cell_type": "markdown",
   "metadata": {},
   "source": [
    "Finally, we train the model using two classifiers, (1) Naive Bayes and (2) an Ensemble of Naive Bayes learners using bagging. We first use k-fold cross validation to train the models and evaluate their performance."
   ]
  },
  {
   "cell_type": "code",
   "execution_count": 8,
   "metadata": {
    "collapsed": false
   },
   "outputs": [
    {
     "name": "stdout",
     "output_type": "stream",
     "text": [
      "Trained model in 3.6522 seconds\n",
      "\n",
      "Cross-Validation scores for GaussianNB using 10 iterations:\n",
      "\n",
      "[ 0.39554232  0.40195589  0.40117247  0.40674428  0.40035989  0.40263315\n",
      "  0.40679165  0.40478973  0.4016804   0.39069539]\n",
      "F1 Score: 0.4012 (+/- 0.0094)\n",
      "\n",
      "\n",
      "\n",
      "Trained model in 20.2808 seconds\n",
      "\n",
      "Cross-Validation scores for BaggingClassifier using 10 iterations:\n",
      "\n",
      "[ 0.3950434   0.40065071  0.40261885  0.40768199  0.39939588  0.40323529\n",
      "  0.4041422   0.403398    0.39548808  0.39085309]\n",
      "F1 Score: 0.4003 (+/- 0.0097)\n",
      "\n",
      "\n",
      "\n"
     ]
    }
   ],
   "source": [
    "from sklearn.naive_bayes import GaussianNB\n",
    "from sklearn.ensemble import BaggingClassifier\n",
    "from time import time\n",
    "from sklearn.cross_validation import ShuffleSplit\n",
    "from sklearn.model_selection import cross_val_score\n",
    "from sklearn.metrics import make_scorer, f1_score\n",
    "\n",
    "def performance_metric(y_true, y_pred):\n",
    "    return f1_score(y_true,y_pred,average='weighted')\n",
    "\n",
    "def cross_validation(clf, X_train, y_train, fit_params=None):\n",
    "    cv_iters = 10\n",
    "    cv_sets = ShuffleSplit(X_train.shape[0], n_iter=cv_iters, test_size=0.2, random_state=0)\n",
    "    scoring_fnc = make_scorer(performance_metric)  \n",
    "\n",
    "    start = time()\n",
    "    scores = cross_val_score(clf, X_train, y=y_train, fit_params=fit_params, scoring=scoring_fnc, cv=cv_sets)\n",
    "    end = time()\n",
    "\n",
    "    # Print the results\n",
    "    print \"Trained model in {:.4f} seconds\".format(end - start)\n",
    "    print \"\\nCross-Validation scores for {} using {} iterations:\\n\".format(clf.__class__.__name__,cv_iters)\n",
    "    print scores\n",
    "    print(\"F1 Score: %0.4f (+/- %0.4f)\" % (scores.mean(), scores.std() * 2))\n",
    "    print '\\n\\n'\n",
    "    \n",
    "clf_A = GaussianNB()\n",
    "clf_B = BaggingClassifier(clf_A, random_state=2)\n",
    "\n",
    "cross_validation(clf_A,X_all,y_all)\n",
    "cross_validation(clf_B,X_all,y_all)"
   ]
  },
  {
   "cell_type": "markdown",
   "metadata": {},
   "source": [
    "The cross-validations scores indicate the models perform a bit better than the benchmark of 0.33. Next, we look into more details of how the models perform in classifying each class, using the classification_report function."
   ]
  },
  {
   "cell_type": "code",
   "execution_count": 9,
   "metadata": {
    "collapsed": false
   },
   "outputs": [
    {
     "name": "stdout",
     "output_type": "stream",
     "text": [
      "Results for NB:\n",
      "Made predictions in 0.0304 seconds.\n",
      "Classification Report: \n",
      "             precision    recall  f1-score   support\n",
      "\n",
      "       DOWN       0.43      0.37      0.40      6341\n",
      "     STABLE       0.41      0.43      0.42      6377\n",
      "         UP       0.39      0.42      0.40      6572\n",
      "\n",
      "avg / total       0.41      0.41      0.40     19290\n",
      "\n",
      "\n",
      "\n",
      "\n",
      "Results for Bagging:\n",
      "Made predictions in 0.3473 seconds.\n",
      "Classification Report: \n",
      "             precision    recall  f1-score   support\n",
      "\n",
      "       DOWN       0.43      0.36      0.39      6341\n",
      "     STABLE       0.40      0.43      0.42      6377\n",
      "         UP       0.39      0.43      0.41      6572\n",
      "\n",
      "avg / total       0.41      0.41      0.41     19290\n",
      "\n"
     ]
    }
   ],
   "source": [
    "from sklearn.metrics import classification_report\n",
    "    \n",
    "def predict_labels(clf, features, target):\n",
    "    start = time()\n",
    "    y_pred = clf.predict(features)\n",
    "    end = time()\n",
    "    # Print and return results\n",
    "    print \"Made predictions in {:.4f} seconds.\".format(end - start)\n",
    "    print \"Classification Report: \\n\" + str(classification_report(target,y_pred))\n",
    "\n",
    "#We arbitrarily set the number of training points to 80%\n",
    "num_train = int(X_all.shape[0]*0.8)\n",
    "\n",
    "# Set the number of testing points\n",
    "num_test = X_all.shape[0] - num_train\n",
    "\n",
    "# TODO: Shuffle and split the dataset into the number of training and testing points above\n",
    "X_train, X_test, y_train, y_test = train_test_split(X_all, y_all, test_size = num_test, random_state = 1)\n",
    "\n",
    "clf_A.fit(X_train, y_train)\n",
    "clf_B.fit(X_train, y_train)\n",
    "\n",
    "print \"Results for NB:\"\n",
    "predict_labels(clf_A, X_test, y_test)\n",
    "print '\\n\\n'\n",
    "print \"Results for Bagging:\"\n",
    "predict_labels(clf_B, X_test, y_test)"
   ]
  },
  {
   "cell_type": "markdown",
   "metadata": {},
   "source": [
    "The results indicate the models are classifying each label with roughly equal precision and recall. \n",
    "\n",
    "## Parameter Optimization\n",
    "\n",
    "We next try to tune parameters of the ensemble model using GridSearch and cross-validation. NOTE: The code below takes a long time to run, but results are copied below.\n",
    "\n",
    "***NOTE THE FOLLOWING BLOCK TAKES A LONG TIME TO RUN, BUT CAN BE SKIPPED***"
   ]
  },
  {
   "cell_type": "code",
   "execution_count": null,
   "metadata": {
    "collapsed": false
   },
   "outputs": [],
   "source": [
    "# THIS BLOCK WILL TAKE A LONG TIME TO RUN\n",
    "# YOU CAN SKIP AND THE REST OF THE BLOCKS WILL STILL WORK\n",
    "from sklearn.grid_search import GridSearchCV\n",
    "\n",
    "def train_classifierGS(clf, X_train, y_train, params=None):\n",
    "    cv_iters = 2\n",
    "    cv_sets = ShuffleSplit(X_train.shape[0], n_iter=cv_iters, test_size=0.20, random_state=0)\n",
    "    scoring_fnc = make_scorer(performance_metric)\n",
    "\n",
    "    # Create the grid search object\n",
    "    grid = GridSearchCV(clf, params, scoring=scoring_fnc, cv=cv_sets)\n",
    "    grid.fit(X_train, y_train)\n",
    "    print \"best_params_ for the optimal model are: {}.\".format(str(grid.best_params_))\n",
    "    return grid.best_estimator_\n",
    "\n",
    "params={'n_estimators': [1,10,100,500,1000], 'max_samples': [0.3,0.5,1.0], 'max_features': [0.3,0.5,1.0]}\n",
    "best_bagging_clf = train_classifierGS(clf_B, X_train, y_train, params=params)"
   ]
  },
  {
   "cell_type": "markdown",
   "metadata": {},
   "source": [
    "The results of the grid search indicate the following are the best parameters:\n",
    "\n",
    "best_params_ for the optimal model are: {'max_features': 0.3, 'max_samples': 0.5, 'n_estimators': 100}.\n",
    "\n"
   ]
  },
  {
   "cell_type": "code",
   "execution_count": 43,
   "metadata": {
    "collapsed": false
   },
   "outputs": [
    {
     "name": "stdout",
     "output_type": "stream",
     "text": [
      "Results for Bagging:\n",
      "Trained model in 54.7251 seconds\n",
      "\n",
      "Cross-Validation scores for BaggingClassifier using 10 iterations:\n",
      "\n",
      "[ 0.39726444  0.40226551  0.40427847  0.40923715  0.40187027  0.40537049\n",
      "  0.40609196  0.40498949  0.39806448  0.39302724]\n",
      "F1 Score: 0.4022 (+/- 0.0092)\n",
      "\n",
      "\n",
      "\n",
      "Made predictions in 0.9440 seconds.\n",
      "Classification Report: \n",
      "             precision    recall  f1-score   support\n",
      "\n",
      "      above       0.40      0.44      0.42      6572\n",
      "      below       0.43      0.37      0.40      6341\n",
      "     middle       0.41      0.42      0.42      6377\n",
      "\n",
      "avg / total       0.41      0.41      0.41     19290\n",
      "\n"
     ]
    }
   ],
   "source": [
    "print \"Results for Bagging:\"\n",
    "cross_validation(best_bagging_clf,X_all,y_all)\n",
    "predict_labels(best_bagging_clf, X_test, y_test)"
   ]
  },
  {
   "cell_type": "markdown",
   "metadata": {},
   "source": [
    "The results with the optimal parameters (F1 Score: 0.4022) were only marginally better than with the default parameters (F1 Score: 0.4003)."
   ]
  },
  {
   "cell_type": "markdown",
   "metadata": {},
   "source": [
    "## Model Validation\n",
    "\n",
    "The code below performs all the preprocessing steps again using new variable, in order to preserve the Company, Month, and Return numbers for each datapoint. Then we obtain the top confidence predictions that the model yields in order to assess their performance. See the Model Evaluation and Validation Section of the report for more details on these portions."
   ]
  },
  {
   "cell_type": "code",
   "execution_count": 26,
   "metadata": {
    "collapsed": false
   },
   "outputs": [
    {
     "name": "stdout",
     "output_type": "stream",
     "text": [
      "          0        1     2       3                 4         5\n",
      "15960   UNT  2011-06  DOWN    DOWN   -0.104260989149  0.701770\n",
      "9098   SLCA  2013-06  DOWN    DOWN   -0.458631326212  0.678251\n",
      "7754    UNT  2011-03  DOWN    DOWN   -0.160898545378  0.673817\n",
      "4312    EEQ  2013-11  DOWN    DOWN   -0.232851191059  0.642364\n",
      "616     WLL  2012-02  DOWN  STABLE   0.0100388284056  0.622348\n",
      "7797   SLCA  2012-07  DOWN      UP     1.19795096909  0.621403\n",
      "13244   NGL  2012-07  DOWN      UP    0.223497806037  0.614668\n",
      "5773   ENLC  2014-03  DOWN    DOWN   -0.734449961872  0.611460\n",
      "12004   MDR  2013-09  DOWN    DOWN   -0.283808352244  0.610698\n",
      "9609    WGP  2014-06  DOWN    DOWN   -0.320706536349  0.608916\n",
      "15691   BWP  2013-11  DOWN    DOWN   -0.254832641306  0.608861\n",
      "7689   ENBL  2014-03  DOWN    DOWN   -0.636109502496  0.606810\n",
      "12533  CVRR  2012-12  DOWN  STABLE  -0.0175873114779  0.605505\n",
      "13183   UNT  2011-08  DOWN    DOWN   -0.128695085235  0.604216\n",
      "2393    GEL  2012-08  DOWN  STABLE  -0.0726908388025  0.603567\n",
      "12079   GEL  2011-04  DOWN      UP     0.46960215203  0.601394\n",
      "1255    KOS  2011-04  DOWN    DOWN   -0.256496072168  0.600888\n",
      "9228    UNT  2011-09  DOWN  STABLE  -0.0232758003948  0.598293\n",
      "6729   TRGP  2012-01  DOWN      UP    0.278277107705  0.598212\n",
      "3482     NE  2014-05  DOWN    DOWN   -0.317108297196  0.598053\n",
      "12622   OAS  2011-07  DOWN      UP    0.324255265181  0.596712\n",
      "2856   SYRG  2014-03  DOWN    DOWN    -0.42709933678  0.596516\n",
      "4556    OII  2013-12  DOWN    DOWN   -0.307434616284  0.595902\n",
      "8315    NSH  2011-05  DOWN    DOWN   -0.154731821004  0.595661\n",
      "4177    LNG  2014-11  DOWN    DOWN   -0.212467526383  0.594792\n",
      "11487   OKE  2013-12  DOWN    DOWN   -0.417193146197  0.594154\n",
      "12696  SYRG  2013-07  DOWN    DOWN    -0.17336945489  0.592784\n",
      "13264   LPI  2011-09  DOWN  STABLE   0.0352785053055  0.592317\n",
      "4003    NSH  2012-08  DOWN      UP    0.533655044225  0.591764\n",
      "14626   RMP  2014-09  DOWN      UP    0.263845083502  0.591742\n",
      "12072   OKE  2013-02  DOWN    DOWN   -0.316300253448  0.590742\n",
      "3414    CQP  2011-08  DOWN  STABLE  0.00805599119518  0.590513\n",
      "2253    NGL  2012-08  DOWN      UP    0.385653232799  0.589244\n",
      "5549    CHK  2011-05  DOWN    DOWN   -0.124252967103  0.588894\n",
      "8324    TNH  2011-03  DOWN  STABLE  -0.0415583265817  0.588549\n",
      "4962    OKS  2011-09  DOWN    DOWN   -0.219059213011  0.588444\n",
      "8842    OKS  2012-05  DOWN  STABLE  -0.0117849301888  0.588374\n",
      "4792   SYRG  2013-10  DOWN    DOWN   -0.166474266037  0.587831\n",
      "165     HFC  2011-08  DOWN      UP    0.138432501489  0.587235\n",
      "7416    ETE  2013-10  DOWN    DOWN     -0.3043073424  0.586362\n",
      "Brier Score: 0.215\n"
     ]
    }
   ],
   "source": [
    "\n",
    "#Repeat preprocessing from the start to preserve COMPANY, MONTH, and RAW RETURN numbers\n",
    "dataset2 = pd.read_csv(\"dataset_6_12_spy_alt_norm.csv\")\n",
    "dataset2 = dataset2[dataset2.RET12 != 'None']\n",
    "dataset2 = dataset2[dataset2.RET12 != 'Fail']\n",
    "dataset2.dropna(axis=0, inplace=True)\n",
    "dataset2 = dataset2.drop(['RET6'], axis=1)\n",
    "dataset2 = dataset2.drop(['RET1'], axis=1)\n",
    "dataset2.rename(index=str, columns={'RET12': 'RET'}, inplace=True)\n",
    "dataset2['MKTCAP'].replace('.*Small.', 'small', inplace=True, regex=True)\n",
    "dataset2['MKTCAP'].replace('.*Mid.', 'mid', inplace=True, regex=True)\n",
    "dataset2['MKTCAP'].replace('.*Large.', 'large', inplace=True, regex=True)\n",
    "ret_data = dataset2['RET'].apply(pd.to_numeric, errors='coerce')\n",
    "\n",
    "y_raw = dataset2['RET']\n",
    "\n",
    "dataset2.loc[(dataset2.RET.astype(np.float64) > ft_return) & (dataset2.RET.astype(np.float64) < st_return), 'RETURN_CAT'] = np.str('STABLE')\n",
    "dataset2.loc[(dataset2.RET.astype(np.float64) <= ft_return), 'RETURN_CAT'] = np.str('DOWN')\n",
    "dataset2.loc[(dataset2.RET.astype(np.float64) >= st_return), 'RETURN_CAT'] = np.str('UP')\n",
    "\n",
    "#Extract the feature and target columns\n",
    "feature_cols = list(dataset2.columns[:-2])\n",
    "target_col = dataset2.columns[-1]\n",
    "\n",
    "#Separate data into feature data and target data\n",
    "X_all2 = dataset2[feature_cols]\n",
    "y_all2 = dataset2[target_col]\n",
    "\n",
    "num_train2 = 80000\n",
    "\n",
    "# Set the number of testing points\n",
    "num_test2 = X_all2.shape[0] - num_train2\n",
    "\n",
    "# TODO: Shuffle and split the dataset into the number of training and testing points above\n",
    "X_train2, X_test2, y_train2, y_test2, y_train_raw, y_test_raw = train_test_split(X_all2, y_all2, y_raw, test_size = num_test2, random_state = 1)\n",
    "X_company = X_test2['COMPANY']\n",
    "X_month = X_test2['MONTH']\n",
    "X_test2 = X_test2.drop(['MONTH'], axis=1)\n",
    "X_test2 = X_test2.drop(['COMPANY'], axis=1)\n",
    "X_train2 = X_train2.drop(['MONTH'], axis=1)\n",
    "X_train2 = X_train2.drop(['COMPANY'], axis=1)\n",
    "\n",
    "X_train2 = preprocess_features(X_train2)\n",
    "X_test2 = preprocess_features(X_test2)\n",
    "\n",
    "#Obtain li\n",
    "learner = GaussianNB()\n",
    "final_clf = BaggingClassifier(learner, max_features=0.3, max_samples=0.5, n_estimators=100,random_state=3)\n",
    "final_clf.fit(X_train2,y_train2)\n",
    "#final_clf = clf_A\n",
    "prob_pos_clf = final_clf.predict_proba(X_test2)[:,0]\n",
    "sorted_prob = zip(X_company,X_month,final_clf.predict(X_test2),y_test2,y_test_raw,prob_pos_clf)\n",
    "sorted_prob_df = pd.DataFrame(sorted_prob)\n",
    "sorted_prob_df.sort_values(5,ascending=False,inplace=True)\n",
    "print sorted_prob_df.head(40)\n",
    "\n",
    "from sklearn.metrics import brier_score_loss\n",
    "clf_score = brier_score_loss(y_test2, prob_pos_clf, pos_label='DOWN')\n",
    "print(\"Brier Score: %1.3f\" % clf_score)"
   ]
  },
  {
   "cell_type": "markdown",
   "metadata": {},
   "source": [
    "Below we compute the mean return for all predictions with a probability at or above 0.60."
   ]
  },
  {
   "cell_type": "code",
   "execution_count": 34,
   "metadata": {
    "collapsed": false
   },
   "outputs": [
    {
     "name": "stdout",
     "output_type": "stream",
     "text": [
      "          0        1     2       3                 4         5\n",
      "7754    UNT  2011-03  DOWN    DOWN   -0.160898545378  0.673817\n",
      "1255    KOS  2011-04  DOWN    DOWN   -0.256496072168  0.600888\n",
      "12079   GEL  2011-04  DOWN      UP     0.46960215203  0.601394\n",
      "15960   UNT  2011-06  DOWN    DOWN   -0.104260989149  0.701770\n",
      "13183   UNT  2011-08  DOWN    DOWN   -0.128695085235  0.604216\n",
      "616     WLL  2012-02  DOWN  STABLE   0.0100388284056  0.622348\n",
      "7797   SLCA  2012-07  DOWN      UP     1.19795096909  0.621403\n",
      "13244   NGL  2012-07  DOWN      UP    0.223497806037  0.614668\n",
      "2393    GEL  2012-08  DOWN  STABLE  -0.0726908388025  0.603567\n",
      "12533  CVRR  2012-12  DOWN  STABLE  -0.0175873114779  0.605505\n",
      "9098   SLCA  2013-06  DOWN    DOWN   -0.458631326212  0.678251\n",
      "12004   MDR  2013-09  DOWN    DOWN   -0.283808352244  0.610698\n",
      "15691   BWP  2013-11  DOWN    DOWN   -0.254832641306  0.608861\n",
      "4312    EEQ  2013-11  DOWN    DOWN   -0.232851191059  0.642364\n",
      "5773   ENLC  2014-03  DOWN    DOWN   -0.734449961872  0.611460\n",
      "7689   ENBL  2014-03  DOWN    DOWN   -0.636109502496  0.606810\n",
      "9609    WGP  2014-06  DOWN    DOWN   -0.320706536349  0.608916\n"
     ]
    },
    {
     "name": "stderr",
     "output_type": "stream",
     "text": [
      "/Users/gamephase/anaconda/lib/python2.7/site-packages/ipykernel/__main__.py:2: SettingWithCopyWarning: \n",
      "A value is trying to be set on a copy of a slice from a DataFrame\n",
      "\n",
      "See the caveats in the documentation: http://pandas.pydata.org/pandas-docs/stable/indexing.html#indexing-view-versus-copy\n",
      "  from ipykernel import kernelapp as app\n"
     ]
    },
    {
     "data": {
      "text/plain": [
       "-0.1035840351874"
      ]
     },
     "execution_count": 34,
     "metadata": {},
     "output_type": "execute_result"
    }
   ],
   "source": [
    "high_prob_picks = sorted_prob_df[sorted_prob_df[5]>=0.60]\n",
    "high_prob_picks.sort_values(1,ascending=True,inplace=True)\n",
    "print high_prob_picks.head(30)\n",
    "high_prob_picks[4].apply(pd.to_numeric, errors='coerce').mean()"
   ]
  },
  {
   "cell_type": "code",
   "execution_count": null,
   "metadata": {
    "collapsed": true
   },
   "outputs": [],
   "source": []
  }
 ],
 "metadata": {
  "anaconda-cloud": {},
  "kernelspec": {
   "display_name": "Python [Root]",
   "language": "python",
   "name": "Python [Root]"
  },
  "language_info": {
   "codemirror_mode": {
    "name": "ipython",
    "version": 2
   },
   "file_extension": ".py",
   "mimetype": "text/x-python",
   "name": "python",
   "nbconvert_exporter": "python",
   "pygments_lexer": "ipython2",
   "version": "2.7.12"
  }
 },
 "nbformat": 4,
 "nbformat_minor": 2
}
