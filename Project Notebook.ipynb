{
 "cells": [
  {
   "cell_type": "markdown",
   "metadata": {},
   "source": [
    "\n",
    "This notebook walks through the implementation and analysis of the Insider Trading Machine Learning Project. It walks through using the created dataset. The code for (1) pulling Form 4 data from EDGAR and (2) creating the dataset is in sec_crawler.py and create_dataset.py, respectively.\n",
    "\n",
    "To start we load the dataset into a Pandas Dataframe."
   ]
  },
  {
   "cell_type": "code",
   "execution_count": 1,
   "metadata": {
    "collapsed": false
   },
   "outputs": [],
   "source": [
    "import numpy as np\n",
    "import pandas as pd\n",
    "\n",
    "dataset = pd.read_csv(\"dataset_6_12_spy_alt_norm.csv\")"
   ]
  },
  {
   "cell_type": "markdown",
   "metadata": {},
   "source": [
    "Next, we conduct some simple data preprocessing. First we drop missing datapoints ('None': points for which data is was not available, 'Fail': points for which stock price data was missing, and any NaN values). We also drop the COMPANY ticker and MONTH columns, and cleanup the market cap category data. While we gathered return data for 1 (RET1), 6 (RET6), and 12 (RET12) months, we are only using RET6 data in this demo since this data provided the best results. We renamed RET6 as RET.\n",
    "\n",
    "We then define a use a count_zereos() function to eliminate datapoint that have too many zeroes (e.g., for companies that didn't buy or sell any stock for an entire year), since these point do not provide meaningful data.\n",
    "\n",
    "Finally, we define a function to separate the non-binary discrete variables into multiple binary variables using the get_dummies function. We use this function later on to split market sector data into 10 binary variables, and market cap data into 3 binary variables.\n"
   ]
  },
  {
   "cell_type": "code",
   "execution_count": 2,
   "metadata": {
    "collapsed": false
   },
   "outputs": [],
   "source": [
    "#Cleanup dataset\n",
    "dataset = dataset[dataset.RET1 != 'None']\n",
    "dataset = dataset[dataset.RET1 != 'Fail']\n",
    "dataset = dataset[dataset.RET6 != 'None']\n",
    "dataset = dataset[dataset.RET6 != 'Fail']\n",
    "dataset = dataset[dataset.RET12 != 'None']\n",
    "dataset = dataset[dataset.RET12 != 'Fail']\n",
    "dataset.dropna(axis=0, inplace=True)\n",
    "dataset = dataset.drop(['COMPANY'], axis=1)\n",
    "dataset = dataset.drop(['MONTH'], axis=1)\n",
    "dataset = dataset.drop(['RET1'], axis=1)\n",
    "dataset = dataset.drop(['RET12'], axis=1)\n",
    "dataset.rename(index=str, columns={'RET6': 'RET'}, inplace=True)\n",
    "dataset['MKTCAP'].replace('.*Small.', 'small', inplace=True, regex=True)\n",
    "dataset['MKTCAP'].replace('.*Mid.', 'mid', inplace=True, regex=True)\n",
    "dataset['MKTCAP'].replace('.*Large.', 'large', inplace=True, regex=True)\n",
    "\n",
    "#Count zeroes in the last six months of a 12 month period\n",
    "def count_zeroes(x):\n",
    "    count = 0\n",
    "    for i in x[6:12]:\n",
    "        if i == 0.0:\n",
    "            count = count + 1\n",
    "    return count\n",
    "\n",
    "#removes points with 4 or more zero months in the last 6 months.\n",
    "dataset = dataset[dataset.apply(lambda x: count_zeroes(x) < 3,axis=1)]\n",
    "\n",
    "#Create binary variables for non-binary discrete variables\n",
    "def preprocess_features(X):\n",
    "    output = pd.DataFrame(index = X.index)\n",
    "    for col, col_data in X.iteritems():\n",
    "        if col_data.dtype == object:\n",
    "            col_data = pd.get_dummies(col_data, prefix = col)\n",
    "        output = output.join(col_data)\n",
    "    return output\n",
    "\n"
   ]
  },
  {
   "cell_type": "markdown",
   "metadata": {},
   "source": [
    "Below is a sample of the dataset for visualization purposes."
   ]
  },
  {
   "cell_type": "code",
   "execution_count": 3,
   "metadata": {
    "collapsed": false,
    "scrolled": true
   },
   "outputs": [
    {
     "data": {
      "text/html": [
       "<div>\n",
       "<table border=\"1\" class=\"dataframe\">\n",
       "  <thead>\n",
       "    <tr style=\"text-align: right;\">\n",
       "      <th></th>\n",
       "      <th>NBC1</th>\n",
       "      <th>NBC2</th>\n",
       "      <th>NBC3</th>\n",
       "      <th>NBC4</th>\n",
       "      <th>NBC5</th>\n",
       "      <th>NBC6</th>\n",
       "      <th>NBC7</th>\n",
       "      <th>NBC8</th>\n",
       "      <th>NBC9</th>\n",
       "      <th>NBC10</th>\n",
       "      <th>...</th>\n",
       "      <th>NBV6</th>\n",
       "      <th>NBV7</th>\n",
       "      <th>NBV8</th>\n",
       "      <th>NBV9</th>\n",
       "      <th>NBV10</th>\n",
       "      <th>NBV11</th>\n",
       "      <th>NBV12</th>\n",
       "      <th>SECTOR</th>\n",
       "      <th>MKTCAP</th>\n",
       "      <th>RET</th>\n",
       "    </tr>\n",
       "  </thead>\n",
       "  <tbody>\n",
       "    <tr>\n",
       "      <th>6</th>\n",
       "      <td>0.0</td>\n",
       "      <td>0.0</td>\n",
       "      <td>0.0</td>\n",
       "      <td>0.0</td>\n",
       "      <td>0.000000</td>\n",
       "      <td>0.000000</td>\n",
       "      <td>0.000000</td>\n",
       "      <td>0.000000</td>\n",
       "      <td>0.174194</td>\n",
       "      <td>0.680000</td>\n",
       "      <td>...</td>\n",
       "      <td>0.000000</td>\n",
       "      <td>0.000000</td>\n",
       "      <td>0.000000</td>\n",
       "      <td>0.983987</td>\n",
       "      <td>0.977810</td>\n",
       "      <td>0.981042</td>\n",
       "      <td>0.980849</td>\n",
       "      <td>Health Care</td>\n",
       "      <td>mid</td>\n",
       "      <td>-0.29135757577</td>\n",
       "    </tr>\n",
       "    <tr>\n",
       "      <th>7</th>\n",
       "      <td>0.0</td>\n",
       "      <td>0.0</td>\n",
       "      <td>0.0</td>\n",
       "      <td>0.0</td>\n",
       "      <td>0.000000</td>\n",
       "      <td>0.000000</td>\n",
       "      <td>0.000000</td>\n",
       "      <td>0.174194</td>\n",
       "      <td>0.680000</td>\n",
       "      <td>-0.066667</td>\n",
       "      <td>...</td>\n",
       "      <td>0.000000</td>\n",
       "      <td>0.000000</td>\n",
       "      <td>0.983987</td>\n",
       "      <td>0.977810</td>\n",
       "      <td>0.981042</td>\n",
       "      <td>0.980849</td>\n",
       "      <td>0.980031</td>\n",
       "      <td>Health Care</td>\n",
       "      <td>mid</td>\n",
       "      <td>0.00943020098093</td>\n",
       "    </tr>\n",
       "    <tr>\n",
       "      <th>8</th>\n",
       "      <td>0.0</td>\n",
       "      <td>0.0</td>\n",
       "      <td>0.0</td>\n",
       "      <td>0.0</td>\n",
       "      <td>0.000000</td>\n",
       "      <td>0.000000</td>\n",
       "      <td>0.174194</td>\n",
       "      <td>0.680000</td>\n",
       "      <td>-0.066667</td>\n",
       "      <td>-0.066667</td>\n",
       "      <td>...</td>\n",
       "      <td>0.000000</td>\n",
       "      <td>0.983987</td>\n",
       "      <td>0.977810</td>\n",
       "      <td>0.981042</td>\n",
       "      <td>0.980849</td>\n",
       "      <td>0.980031</td>\n",
       "      <td>0.972188</td>\n",
       "      <td>Health Care</td>\n",
       "      <td>mid</td>\n",
       "      <td>0.0581040046017</td>\n",
       "    </tr>\n",
       "    <tr>\n",
       "      <th>9</th>\n",
       "      <td>0.0</td>\n",
       "      <td>0.0</td>\n",
       "      <td>0.0</td>\n",
       "      <td>0.0</td>\n",
       "      <td>0.000000</td>\n",
       "      <td>0.174194</td>\n",
       "      <td>0.680000</td>\n",
       "      <td>-0.066667</td>\n",
       "      <td>-0.066667</td>\n",
       "      <td>0.186441</td>\n",
       "      <td>...</td>\n",
       "      <td>0.983987</td>\n",
       "      <td>0.977810</td>\n",
       "      <td>0.981042</td>\n",
       "      <td>0.980849</td>\n",
       "      <td>0.980031</td>\n",
       "      <td>0.972188</td>\n",
       "      <td>0.977248</td>\n",
       "      <td>Health Care</td>\n",
       "      <td>mid</td>\n",
       "      <td>0.172004874826</td>\n",
       "    </tr>\n",
       "    <tr>\n",
       "      <th>10</th>\n",
       "      <td>0.0</td>\n",
       "      <td>0.0</td>\n",
       "      <td>0.0</td>\n",
       "      <td>0.0</td>\n",
       "      <td>0.174194</td>\n",
       "      <td>0.680000</td>\n",
       "      <td>-0.066667</td>\n",
       "      <td>-0.066667</td>\n",
       "      <td>0.186441</td>\n",
       "      <td>-0.066667</td>\n",
       "      <td>...</td>\n",
       "      <td>0.977810</td>\n",
       "      <td>0.981042</td>\n",
       "      <td>0.980849</td>\n",
       "      <td>0.980031</td>\n",
       "      <td>0.972188</td>\n",
       "      <td>0.977248</td>\n",
       "      <td>0.979565</td>\n",
       "      <td>Health Care</td>\n",
       "      <td>mid</td>\n",
       "      <td>0.0337933093131</td>\n",
       "    </tr>\n",
       "  </tbody>\n",
       "</table>\n",
       "<p>5 rows × 27 columns</p>\n",
       "</div>"
      ],
      "text/plain": [
       "    NBC1  NBC2  NBC3  NBC4      NBC5      NBC6      NBC7      NBC8      NBC9  \\\n",
       "6    0.0   0.0   0.0   0.0  0.000000  0.000000  0.000000  0.000000  0.174194   \n",
       "7    0.0   0.0   0.0   0.0  0.000000  0.000000  0.000000  0.174194  0.680000   \n",
       "8    0.0   0.0   0.0   0.0  0.000000  0.000000  0.174194  0.680000 -0.066667   \n",
       "9    0.0   0.0   0.0   0.0  0.000000  0.174194  0.680000 -0.066667 -0.066667   \n",
       "10   0.0   0.0   0.0   0.0  0.174194  0.680000 -0.066667 -0.066667  0.186441   \n",
       "\n",
       "       NBC10        ...             NBV6      NBV7      NBV8      NBV9  \\\n",
       "6   0.680000        ...         0.000000  0.000000  0.000000  0.983987   \n",
       "7  -0.066667        ...         0.000000  0.000000  0.983987  0.977810   \n",
       "8  -0.066667        ...         0.000000  0.983987  0.977810  0.981042   \n",
       "9   0.186441        ...         0.983987  0.977810  0.981042  0.980849   \n",
       "10 -0.066667        ...         0.977810  0.981042  0.980849  0.980031   \n",
       "\n",
       "       NBV10     NBV11     NBV12       SECTOR  MKTCAP               RET  \n",
       "6   0.977810  0.981042  0.980849  Health Care     mid    -0.29135757577  \n",
       "7   0.981042  0.980849  0.980031  Health Care     mid  0.00943020098093  \n",
       "8   0.980849  0.980031  0.972188  Health Care     mid   0.0581040046017  \n",
       "9   0.980031  0.972188  0.977248  Health Care     mid    0.172004874826  \n",
       "10  0.972188  0.977248  0.979565  Health Care     mid   0.0337933093131  \n",
       "\n",
       "[5 rows x 27 columns]"
      ]
     },
     "execution_count": 3,
     "metadata": {},
     "output_type": "execute_result"
    }
   ],
   "source": [
    "dataset.head()"
   ]
  },
  {
   "cell_type": "markdown",
   "metadata": {},
   "source": [
    "# Statistics\n",
    "\n",
    "\n"
   ]
  },
  {
   "cell_type": "markdown",
   "metadata": {},
   "source": [
    "The code below generates statistics on return, net buy count, and net buy volume across the dataset."
   ]
  },
  {
   "cell_type": "code",
   "execution_count": 4,
   "metadata": {
    "collapsed": false,
    "scrolled": false
   },
   "outputs": [
    {
     "name": "stdout",
     "output_type": "stream",
     "text": [
      "Min return: -0.885397748883\n",
      "Max return: 6.66432449583\n",
      "Mean return: 0.0142620175836\n",
      "Median return: 0.00571121556293\n",
      "Std Dev of return: 0.197434313421\n",
      "First quartile: -0.0908419611434\n",
      "Third quartile: 0.105715856181\n",
      "First third: -0.057091146113\n",
      "Second third: 0.0643736691693\n",
      "Min NBC: -1.0\n",
      "Max NBC: 1.0\n",
      "Mean NBC: -0.00656648472183\n",
      "Median NBC: 0.0\n",
      "Std NBC: 0.595420582645\n",
      "FQ NBC: -0.3125\n",
      "TQ NBC: 0.304347826087\n",
      "Min NBV: -1.0\n",
      "Max NBV: 1.0\n",
      "Mean NBV: -0.0548473465512\n",
      "Median NBV: 0.0\n",
      "Std NBV: 0.583783017079\n",
      "FQ NBV: -0.272497003055\n",
      "TQ NBV: 0.0256479127814\n"
     ]
    }
   ],
   "source": [
    "ret_data = dataset['RET'].apply(pd.to_numeric, errors='coerce')\n",
    "min_return = np.min(ret_data)\n",
    "max_return = np.max(ret_data)\n",
    "mean_return = np.mean(ret_data)\n",
    "median_return = np.median(ret_data)\n",
    "std_return = np.std(ret_data)\n",
    "fq_return = np.percentile(ret_data,25)\n",
    "tq_return = np.percentile(ret_data,75)\n",
    "ft_return = np.percentile(ret_data,33)\n",
    "st_return = np.percentile(ret_data,66)\n",
    "print \"Min return: \" + str(min_return)\n",
    "print \"Max return: \" + str(max_return)\n",
    "print \"Mean return: \" + str(mean_return)\n",
    "print \"Median return: \" + str(median_return)\n",
    "print \"Std Dev of return: \" + str(std_return)\n",
    "print \"First quartile: \" + str(fq_return)\n",
    "print \"Third quartile: \" + str(tq_return)\n",
    "print \"First third: \" + str(ft_return)\n",
    "print \"Second third: \" + str(st_return)\n",
    "\n",
    "all_nbc = np.concatenate([dataset['NBC' + str(i)].apply(pd.to_numeric, errors='coerce') for i in range(1,13)])\n",
    "min_nbc = min(all_nbc)\n",
    "max_nbc = max(all_nbc)\n",
    "mean_nbc = np.mean(all_nbc)\n",
    "median_nbc = np.median(all_nbc)\n",
    "std_nbc = np.std(all_nbc)\n",
    "fq_nbc = np.percentile(all_nbc, 25)\n",
    "tq_nbc = np.percentile(all_nbc, 75)\n",
    "print \"Min NBC: \" + str(min_nbc)\n",
    "print \"Max NBC: \" + str(max_nbc)\n",
    "print \"Mean NBC: \" + str(mean_nbc)\n",
    "print \"Median NBC: \" + str(median_nbc)\n",
    "print \"Std NBC: \" + str(std_nbc)\n",
    "print \"FQ NBC: \" + str(fq_nbc)\n",
    "print \"TQ NBC: \" + str(tq_nbc)\n",
    "\n",
    "all_nbv = np.concatenate([dataset['NBV' + str(i)].apply(pd.to_numeric, errors='coerce') for i in range(1,13)])\n",
    "min_nbv = min(all_nbv)\n",
    "max_nbv = max(all_nbv)\n",
    "mean_nbv = np.mean(all_nbv)\n",
    "median_nbv = np.median(all_nbv)\n",
    "std_nbv = np.std(all_nbv)\n",
    "fq_nbv = np.percentile(all_nbv, 25)\n",
    "tq_nbv = np.percentile(all_nbv, 75)\n",
    "print \"Min NBV: \" + str(min_nbv)\n",
    "print \"Max NBV: \" + str(max_nbv)\n",
    "print \"Mean NBV: \" + str(mean_nbv)\n",
    "print \"Median NBV: \" + str(median_nbv)\n",
    "print \"Std NBV: \" + str(std_nbv)\n",
    "print \"FQ NBV: \" + str(fq_nbv)\n",
    "print \"TQ NBV: \" + str(tq_nbv)\n"
   ]
  },
  {
   "cell_type": "markdown",
   "metadata": {},
   "source": [
    "A histogram of return data shows that the returns are roughly normally distributed."
   ]
  },
  {
   "cell_type": "code",
   "execution_count": 5,
   "metadata": {
    "collapsed": false
   },
   "outputs": [
    {
     "data": {
      "image/png": "[encoded data removed]",
      "text/plain": [
       "<matplotlib.figure.Figure at 0x7feac2d54c90>"
      ]
     },
     "metadata": {},
     "output_type": "display_data"
    },
    {
     "data": {
      "image/png": "[encoded data removed]",
      "text/plain": [
       "<matplotlib.figure.Figure at 0x7fead001ed10>"
      ]
     },
     "metadata": {},
     "output_type": "display_data"
    },
    {
     "data": {
      "image/png": "[encoded data removed]",
      "text/plain": [
       "<matplotlib.figure.Figure at 0x7feabe0078d0>"
      ]
     },
     "metadata": {},
     "output_type": "display_data"
    }
   ],
   "source": [
    "import matplotlib.pyplot as plt\n",
    "\n",
    "plt.hist(ret_data, bins=100, range=(-.8,.8))\n",
    "plt.ylabel('Frequency')\n",
    "plt.xlabel('Return')\n",
    "plt.show()\n",
    "\n",
    "plt.hist(all_nbc, bins=100, range=(-1,1))\n",
    "plt.ylabel('Frequency')\n",
    "plt.xlabel('NBC')\n",
    "plt.show()\n",
    "\n",
    "plt.hist(all_nbv, bins=100, range=(-1,1))\n",
    "plt.ylabel('Frequency')\n",
    "plt.xlabel('NBV')\n",
    "plt.show()"
   ]
  },
  {
   "cell_type": "code",
   "execution_count": null,
   "metadata": {
    "collapsed": true
   },
   "outputs": [],
   "source": []
  }
 ],
 "metadata": {
  "kernelspec": {
   "display_name": "Python 2",
   "language": "python",
   "name": "python2"
  },
  "language_info": {
   "codemirror_mode": {
    "name": "ipython",
    "version": 2
   },
   "file_extension": ".py",
   "mimetype": "text/x-python",
   "name": "python",
   "nbconvert_exporter": "python",
   "pygments_lexer": "ipython2",
   "version": "2.7.13"
  }
 },
 "nbformat": 4,
 "nbformat_minor": 2
}
