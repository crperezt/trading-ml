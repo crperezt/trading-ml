{
 "cells": [
  {
   "cell_type": "markdown",
   "metadata": {},
   "source": [
    "\n",
    "This notebook walks through the implementation and analysis of the Insider Trading Machine Learning Project. It walks through using the created dataset. The code for (1) pulling Form 4 data from EDGAR and (2) creating the dataset is in sec_crawler.py and create_dataset.py, respectively.\n",
    "\n",
    "To start we load the dataset into a Pandas Dataframe."
   ]
  },
  {
   "cell_type": "code",
   "execution_count": 2,
   "metadata": {
    "collapsed": true
   },
   "outputs": [],
   "source": [
    "import numpy as np\n",
    "import pandas as pd\n",
    "\n",
    "dataset = pd.read_csv(\"dataset_norm_sector.csv\")"
   ]
  },
  {
   "cell_type": "markdown",
   "metadata": {},
   "source": [
    "Next, we conduct some simple data preprocessing. First we drop missing datapoints ('None': points for which data is not available (before Jan-2013), 'Fail': points for which stock price data was missing, and any NaN values). We also drop the COMPANY ticker column, and cleanup the market cap category data.\n",
    "\n",
    "Finally, we define a function to separate the non-binary discrete variables into multiple binary variables using the get_dummies function. We use this function later on to split market sector data into 10 binary variables, and market cap data into 3 binary variables.\n"
   ]
  },
  {
   "cell_type": "code",
   "execution_count": 3,
   "metadata": {
    "collapsed": true
   },
   "outputs": [],
   "source": [
    "#Cleanup dataset\n",
    "dataset = dataset[dataset.RETURN != 'None']\n",
    "dataset = dataset[dataset.RETURN != 'Fail']\n",
    "dataset.dropna(axis=0, inplace=True)\n",
    "dataset = dataset.drop(['COMPANY'], axis=1)\n",
    "dataset['MKTCAP'].replace('.*Small.', 'small', inplace=True, regex=True)\n",
    "dataset['MKTCAP'].replace('.*Mid.', 'mid', inplace=True, regex=True)\n",
    "dataset['MKTCAP'].replace('.*Large.', 'large', inplace=True, regex=True)\n",
    "\n",
    "#Create binary variables for non-binary discrete variables\n",
    "def preprocess_features(X):\n",
    "    output = pd.DataFrame(index = X.index)\n",
    "    for col, col_data in X.iteritems():\n",
    "        if col_data.dtype == object:\n",
    "            col_data = pd.get_dummies(col_data, prefix = col)\n",
    "        output = output.join(col_data)\n",
    "    return output\n",
    "\n",
    "    "
   ]
  },
  {
   "cell_type": "markdown",
   "metadata": {},
   "source": [
    "Below is a sample of the dataset for visualization purposes."
   ]
  },
  {
   "cell_type": "code",
   "execution_count": 4,
   "metadata": {
    "collapsed": false,
    "scrolled": true
   },
   "outputs": [
    {
     "data": {
      "text/html": [
       "<div>\n",
       "<table border=\"1\" class=\"dataframe\">\n",
       "  <thead>\n",
       "    <tr style=\"text-align: right;\">\n",
       "      <th></th>\n",
       "      <th>NBC1</th>\n",
       "      <th>NBC2</th>\n",
       "      <th>NBC3</th>\n",
       "      <th>NBC4</th>\n",
       "      <th>NBC5</th>\n",
       "      <th>NBC6</th>\n",
       "      <th>NBC7</th>\n",
       "      <th>NBC8</th>\n",
       "      <th>NBC9</th>\n",
       "      <th>NBC10</th>\n",
       "      <th>...</th>\n",
       "      <th>NBV6</th>\n",
       "      <th>NBV7</th>\n",
       "      <th>NBV8</th>\n",
       "      <th>NBV9</th>\n",
       "      <th>NBV10</th>\n",
       "      <th>NBV11</th>\n",
       "      <th>NBV12</th>\n",
       "      <th>SECTOR</th>\n",
       "      <th>MKTCAP</th>\n",
       "      <th>RETURN</th>\n",
       "    </tr>\n",
       "  </thead>\n",
       "  <tbody>\n",
       "    <tr>\n",
       "      <th>26</th>\n",
       "      <td>1.000000</td>\n",
       "      <td>0.066667</td>\n",
       "      <td>0.000000</td>\n",
       "      <td>0.000000</td>\n",
       "      <td>0.000000</td>\n",
       "      <td>0.000000</td>\n",
       "      <td>-0.333333</td>\n",
       "      <td>-0.428571</td>\n",
       "      <td>-0.500000</td>\n",
       "      <td>-0.428571</td>\n",
       "      <td>...</td>\n",
       "      <td>0.000000</td>\n",
       "      <td>-0.077273</td>\n",
       "      <td>-0.143460</td>\n",
       "      <td>-0.111842</td>\n",
       "      <td>-0.142857</td>\n",
       "      <td>-0.190212</td>\n",
       "      <td>-0.183784</td>\n",
       "      <td>Information Technology</td>\n",
       "      <td>small</td>\n",
       "      <td>-0.038247887838</td>\n",
       "    </tr>\n",
       "    <tr>\n",
       "      <th>27</th>\n",
       "      <td>0.066667</td>\n",
       "      <td>0.000000</td>\n",
       "      <td>0.000000</td>\n",
       "      <td>0.000000</td>\n",
       "      <td>0.000000</td>\n",
       "      <td>-0.333333</td>\n",
       "      <td>-0.428571</td>\n",
       "      <td>-0.500000</td>\n",
       "      <td>-0.428571</td>\n",
       "      <td>-0.217391</td>\n",
       "      <td>...</td>\n",
       "      <td>-0.077273</td>\n",
       "      <td>-0.143460</td>\n",
       "      <td>-0.111842</td>\n",
       "      <td>-0.142857</td>\n",
       "      <td>-0.190212</td>\n",
       "      <td>-0.183784</td>\n",
       "      <td>-0.139860</td>\n",
       "      <td>Information Technology</td>\n",
       "      <td>small</td>\n",
       "      <td>0.0707736976746</td>\n",
       "    </tr>\n",
       "    <tr>\n",
       "      <th>28</th>\n",
       "      <td>0.000000</td>\n",
       "      <td>0.000000</td>\n",
       "      <td>0.000000</td>\n",
       "      <td>0.000000</td>\n",
       "      <td>-0.333333</td>\n",
       "      <td>-0.428571</td>\n",
       "      <td>-0.500000</td>\n",
       "      <td>-0.428571</td>\n",
       "      <td>-0.217391</td>\n",
       "      <td>-0.578947</td>\n",
       "      <td>...</td>\n",
       "      <td>-0.143460</td>\n",
       "      <td>-0.111842</td>\n",
       "      <td>-0.142857</td>\n",
       "      <td>-0.190212</td>\n",
       "      <td>-0.183784</td>\n",
       "      <td>-0.139860</td>\n",
       "      <td>-0.007563</td>\n",
       "      <td>Information Technology</td>\n",
       "      <td>small</td>\n",
       "      <td>-0.0917734937395</td>\n",
       "    </tr>\n",
       "    <tr>\n",
       "      <th>29</th>\n",
       "      <td>0.000000</td>\n",
       "      <td>0.000000</td>\n",
       "      <td>0.000000</td>\n",
       "      <td>-0.333333</td>\n",
       "      <td>-0.428571</td>\n",
       "      <td>-0.500000</td>\n",
       "      <td>-0.428571</td>\n",
       "      <td>-0.217391</td>\n",
       "      <td>-0.578947</td>\n",
       "      <td>-0.428571</td>\n",
       "      <td>...</td>\n",
       "      <td>-0.111842</td>\n",
       "      <td>-0.142857</td>\n",
       "      <td>-0.190212</td>\n",
       "      <td>-0.183784</td>\n",
       "      <td>-0.139860</td>\n",
       "      <td>-0.007563</td>\n",
       "      <td>0.006516</td>\n",
       "      <td>Information Technology</td>\n",
       "      <td>small</td>\n",
       "      <td>0.126127808822</td>\n",
       "    </tr>\n",
       "    <tr>\n",
       "      <th>30</th>\n",
       "      <td>0.000000</td>\n",
       "      <td>0.000000</td>\n",
       "      <td>-0.333333</td>\n",
       "      <td>-0.428571</td>\n",
       "      <td>-0.500000</td>\n",
       "      <td>-0.428571</td>\n",
       "      <td>-0.217391</td>\n",
       "      <td>-0.578947</td>\n",
       "      <td>-0.428571</td>\n",
       "      <td>0.555556</td>\n",
       "      <td>...</td>\n",
       "      <td>-0.142857</td>\n",
       "      <td>-0.190212</td>\n",
       "      <td>-0.183784</td>\n",
       "      <td>-0.139860</td>\n",
       "      <td>-0.007563</td>\n",
       "      <td>0.006516</td>\n",
       "      <td>-0.072261</td>\n",
       "      <td>Information Technology</td>\n",
       "      <td>small</td>\n",
       "      <td>-0.131451077943</td>\n",
       "    </tr>\n",
       "  </tbody>\n",
       "</table>\n",
       "<p>5 rows × 27 columns</p>\n",
       "</div>"
      ],
      "text/plain": [
       "        NBC1      NBC2      NBC3      NBC4      NBC5      NBC6      NBC7  \\\n",
       "26  1.000000  0.066667  0.000000  0.000000  0.000000  0.000000 -0.333333   \n",
       "27  0.066667  0.000000  0.000000  0.000000  0.000000 -0.333333 -0.428571   \n",
       "28  0.000000  0.000000  0.000000  0.000000 -0.333333 -0.428571 -0.500000   \n",
       "29  0.000000  0.000000  0.000000 -0.333333 -0.428571 -0.500000 -0.428571   \n",
       "30  0.000000  0.000000 -0.333333 -0.428571 -0.500000 -0.428571 -0.217391   \n",
       "\n",
       "        NBC8      NBC9     NBC10        ...             NBV6      NBV7  \\\n",
       "26 -0.428571 -0.500000 -0.428571        ...         0.000000 -0.077273   \n",
       "27 -0.500000 -0.428571 -0.217391        ...        -0.077273 -0.143460   \n",
       "28 -0.428571 -0.217391 -0.578947        ...        -0.143460 -0.111842   \n",
       "29 -0.217391 -0.578947 -0.428571        ...        -0.111842 -0.142857   \n",
       "30 -0.578947 -0.428571  0.555556        ...        -0.142857 -0.190212   \n",
       "\n",
       "        NBV8      NBV9     NBV10     NBV11     NBV12                  SECTOR  \\\n",
       "26 -0.143460 -0.111842 -0.142857 -0.190212 -0.183784  Information Technology   \n",
       "27 -0.111842 -0.142857 -0.190212 -0.183784 -0.139860  Information Technology   \n",
       "28 -0.142857 -0.190212 -0.183784 -0.139860 -0.007563  Information Technology   \n",
       "29 -0.190212 -0.183784 -0.139860 -0.007563  0.006516  Information Technology   \n",
       "30 -0.183784 -0.139860 -0.007563  0.006516 -0.072261  Information Technology   \n",
       "\n",
       "    MKTCAP            RETURN  \n",
       "26   small   -0.038247887838  \n",
       "27   small   0.0707736976746  \n",
       "28   small  -0.0917734937395  \n",
       "29   small    0.126127808822  \n",
       "30   small   -0.131451077943  \n",
       "\n",
       "[5 rows x 27 columns]"
      ]
     },
     "execution_count": 4,
     "metadata": {},
     "output_type": "execute_result"
    }
   ],
   "source": [
    "dataset.head()"
   ]
  },
  {
   "cell_type": "markdown",
   "metadata": {},
   "source": [
    "# Statistics\n",
    "\n",
    "\n"
   ]
  },
  {
   "cell_type": "markdown",
   "metadata": {},
   "source": [
    "The code below generates statistics on return, net buy count, and net buy volume across the dataset."
   ]
  },
  {
   "cell_type": "code",
   "execution_count": 15,
   "metadata": {
    "collapsed": false,
    "scrolled": false
   },
   "outputs": [
    {
     "name": "stdout",
     "output_type": "stream",
     "text": [
      "Min return: -0.886935052712\n",
      "Max return: 3.55497844107\n",
      "Mean return: 0.003545939211\n",
      "Median return: 0.00135931251718\n",
      "Std Dev of return: 0.0826228466329\n",
      "First quartile: -0.0379613481341\n",
      "Third quartile: 0.0408291879766\n",
      "Min NBC: -1.0\n",
      "Max NBC: 1.0\n",
      "Mean NBC: -0.0189720982369\n",
      "Median NBC: 0.0\n",
      "Std NBC: 0.587571021083\n",
      "FQ NBC: -0.333333333333\n",
      "TQ NBC: 0.222222222222\n",
      "Min NBV: -1.0\n",
      "Max NBV: 1.0\n",
      "Mean NBV: -0.0192918848698\n",
      "Median NBV: 0.0\n",
      "Std NBV: 0.550287663961\n",
      "FQ NBV: -0.170218968089\n",
      "TQ NBV: 0.0\n"
     ]
    }
   ],
   "source": [
    "ret_data = dataset['RETURN'].apply(pd.to_numeric, errors='coerce')\n",
    "min_return = np.min(ret_data)\n",
    "max_return = np.max(ret_data)\n",
    "mean_return = np.mean(ret_data)\n",
    "median_return = np.median(ret_data)\n",
    "std_return = np.std(ret_data)\n",
    "fq_return = np.percentile(ret_data,25)\n",
    "tq_return = np.percentile(ret_data,75)\n",
    "print \"Min return: \" + str(min_return)\n",
    "print \"Max return: \" + str(max_return)\n",
    "print \"Mean return: \" + str(mean_return)\n",
    "print \"Median return: \" + str(median_return)\n",
    "print \"Std Dev of return: \" + str(std_return)\n",
    "print \"First quartile: \" + str(fq_return)\n",
    "print \"Third quartile: \" + str(tq_return)\n",
    "\n",
    "all_nbc = np.concatenate([dataset['NBC' + str(i)].apply(pd.to_numeric, errors='coerce') for i in range(1,13)])\n",
    "min_nbc = min(all_nbc)\n",
    "max_nbc = max(all_nbc)\n",
    "mean_nbc = np.mean(all_nbc)\n",
    "median_nbc = np.median(all_nbc)\n",
    "std_nbc = np.std(all_nbc)\n",
    "fq_nbc = np.percentile(all_nbc, 25)\n",
    "tq_nbc = np.percentile(all_nbc, 75)\n",
    "print \"Min NBC: \" + str(min_nbc)\n",
    "print \"Max NBC: \" + str(max_nbc)\n",
    "print \"Mean NBC: \" + str(mean_nbc)\n",
    "print \"Median NBC: \" + str(median_nbc)\n",
    "print \"Std NBC: \" + str(std_nbc)\n",
    "print \"FQ NBC: \" + str(fq_nbc)\n",
    "print \"TQ NBC: \" + str(tq_nbc)\n",
    "\n",
    "all_nbv = np.concatenate([dataset['NBV' + str(i)].apply(pd.to_numeric, errors='coerce') for i in range(1,13)])\n",
    "min_nbv = min(all_nbv)\n",
    "max_nbv = max(all_nbv)\n",
    "mean_nbv = np.mean(all_nbv)\n",
    "median_nbv = np.median(all_nbv)\n",
    "std_nbv = np.std(all_nbv)\n",
    "fq_nbv = np.percentile(all_nbv, 25)\n",
    "tq_nbv = np.percentile(all_nbv, 75)\n",
    "print \"Min NBV: \" + str(min_nbv)\n",
    "print \"Max NBV: \" + str(max_nbv)\n",
    "print \"Mean NBV: \" + str(mean_nbv)\n",
    "print \"Median NBV: \" + str(median_nbv)\n",
    "print \"Std NBV: \" + str(std_nbv)\n",
    "print \"FQ NBV: \" + str(fq_nbv)\n",
    "print \"TQ NBV: \" + str(tq_nbv)\n"
   ]
  },
  {
   "cell_type": "markdown",
   "metadata": {},
   "source": []
  },
  {
   "cell_type": "code",
   "execution_count": 14,
   "metadata": {
    "collapsed": false
   },
   "outputs": [
    {
     "data": {
      "image/png": "[encoded data removed]",
      "text/plain": [
       "<matplotlib.figure.Figure at 0x7f88db416350>"
      ]
     },
     "metadata": {},
     "output_type": "display_data"
    }
   ],
   "source": [
    "import matplotlib.pyplot as plt\n",
    "\n",
    "plt.hist(ret_data, bins=100, range=(-.1,.1))\n",
    "plt.show()"
   ]
  },
  {
   "cell_type": "code",
   "execution_count": null,
   "metadata": {
    "collapsed": true
   },
   "outputs": [],
   "source": []
  }
 ],
 "metadata": {
  "kernelspec": {
   "display_name": "Python 2",
   "language": "python",
   "name": "python2"
  },
  "language_info": {
   "codemirror_mode": {
    "name": "ipython",
    "version": 2
   },
   "file_extension": ".py",
   "mimetype": "text/x-python",
   "name": "python",
   "nbconvert_exporter": "python",
   "pygments_lexer": "ipython2",
   "version": "2.7.13"
  }
 },
 "nbformat": 4,
 "nbformat_minor": 2
}
